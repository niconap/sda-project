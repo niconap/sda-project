{
 "cells": [
  {
   "cell_type": "markdown",
   "metadata": {},
   "source": [
    "# Decision trees\n",
    "\n",
    "In this file, we create decision trees that try to predict whether or not a patient should get a diagnosis, which is a more visual approach to predicting. This could (in theory) be used in real life by a doctor, for example."
   ]
  },
  {
   "cell_type": "code",
   "execution_count": 1,
   "metadata": {},
   "outputs": [],
   "source": [
    "import numpy as np\n",
    "import matplotlib.pyplot as plt\n",
    "import pandas as pd\n",
    "\n",
    "from sklearn.tree import DecisionTreeClassifier, plot_tree\n",
    "from sklearn.model_selection import train_test_split\n",
    "from sklearn.metrics import accuracy_score\n",
    "import data_reader\n",
    "from sklearn.model_selection import cross_val_score"
   ]
  },
  {
   "cell_type": "code",
   "execution_count": null,
   "metadata": {},
   "outputs": [],
   "source": [
    "data = data_reader.get_data_dict('./data/alzheimers_disease_data.csv')\n",
    "\n",
    "biological_features = [\n",
    "    'Age', 'Ethnicity', 'Gender', 'BMI', 'FamilyHistoryAlzheimers',\n",
    "    'CardiovascularDisease', 'Diabetes', 'Hypertension',\n",
    "    'SystolicBP', 'DiastolicBP', 'CholesterolTotal',\n",
    "    'CholesterolLDL', 'CholesterolHDL', 'CholesterolTriglycerides']\n",
    "\n",
    "cognitive_features = [\n",
    "    'MMSE', 'FunctionalAssessment', 'MemoryComplaints',\n",
    "    'BehavioralProblems', 'ADL', 'Confusion', 'Disorientation',\n",
    "    'PersonalityChanges', 'DifficultyCompletingTasks', 'Forgetfulness']\n",
    "\n",
    "lifestyle_features = [\n",
    "    'Smoking', 'AlcoholConsumption', 'PhysicalActivity',\n",
    "    'DietQuality', 'SleepQuality', 'Depression', 'HeadInjury',\n",
    "    'EducationLevel']\n",
    "\n",
    "feature_sets = {'Biological Features': biological_features, 'Cognitive Features': cognitive_features,'Lifestyle Features': lifestyle_features}\n",
    "\n",
    "df = pd.DataFrame({key: value for key, value in data.items() if key != 'DoctorInCharge'})\n",
    "\n",
    "for feature_set_name, features in feature_sets.items():\n",
    "    print(f\"\\nUsing {feature_set_name}:\")\n",
    "\n",
    "    X = df[features]\n",
    "    y = df['Diagnosis']\n",
    "\n",
    "    X_train, X_test, y_train, y_test = train_test_split(X, y, test_size=0.3, random_state=1)\n",
    "\n",
    "    # Define the classifier used to create the decision tree.\n",
    "    model = DecisionTreeClassifier()\n",
    "    model.fit(X_train, y_train)\n",
    "    y_pred = model.predict(X_test)\n",
    "\n",
    "    # Simplify the tree using the entropy criterion, which indicates the amount\n",
    "    # of uncertainty.\n",
    "    model_entropy = DecisionTreeClassifier(criterion=\"entropy\", max_depth=3)\n",
    "    model_entropy.fit(X_train, y_train)\n",
    "    y_pred_entropy = model_entropy.predict(X_test)\n",
    "    entropy_accuracy = accuracy_score(y_test, y_pred_entropy)\n",
    "    print(f\"Entropy-Based Tree Accuracy: {entropy_accuracy:.2f}\")\n",
    "\n",
    "    # Visualize the simpler tree of depth 3.\n",
    "    plt.figure(figsize=(18, 12))\n",
    "    plot_tree(\n",
    "        model_entropy,\n",
    "        feature_names=features,\n",
    "        class_names=['No Diagnosis', 'Diagnosis'],\n",
    "        filled=True,\n",
    "        rounded=True,\n",
    "        fontsize=10,\n",
    "        proportion=True\n",
    "    )\n",
    "    ax = plt.gca()\n",
    "    for arrow in ax.patches:\n",
    "        arrow.set_linewidth(0.55)\n",
    "\n",
    "    plt.title(f\"Decision Tree Visualization for {feature_set_name}\\nModel Accuracy: {accuracy_score(y_test, y_pred_entropy):.2f}\", fontsize=16)\n",
    "    plt.show()\n"
   ]
  },
  {
   "cell_type": "code",
   "execution_count": null,
   "metadata": {},
   "outputs": [],
   "source": [
    "# Cross-validation: iterating over various depths to check for overfitting \n",
    "\n",
    "depths = range(1, 21)\n",
    "scores = []\n",
    "\n",
    "for depth in depths:\n",
    "    model = DecisionTreeClassifier(max_depth=depth, random_state=1)\n",
    "    cv_scores = cross_val_score(model, X_train, y_train, cv=5)\n",
    "    scores.append(cv_scores.mean())\n",
    "\n",
    "plt.plot(depths, scores, marker='o')\n",
    "plt.xlabel('Max Depth')\n",
    "plt.ylabel('Cross-Validation Accuracy')\n",
    "plt.title('Selecting Optimal Tree Depth')\n",
    "plt.show()"
   ]
  }
 ],
 "metadata": {
  "kernelspec": {
   "display_name": "Python 3",
   "language": "python",
   "name": "python3"
  },
  "language_info": {
   "codemirror_mode": {
    "name": "ipython",
    "version": 3
   },
   "file_extension": ".py",
   "mimetype": "text/x-python",
   "name": "python",
   "nbconvert_exporter": "python",
   "pygments_lexer": "ipython3",
   "version": "3.12.7"
  }
 },
 "nbformat": 4,
 "nbformat_minor": 2
}
